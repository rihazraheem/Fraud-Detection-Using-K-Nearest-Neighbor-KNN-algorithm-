{
 "cells": [
  {
   "cell_type": "code",
   "execution_count": 1,
   "metadata": {
    "collapsed": true
   },
   "outputs": [],
   "source": [
    "#import libraries for data handling, visualization and model building."
   ]
  },
  {
   "cell_type": "code",
   "execution_count": 2,
   "metadata": {
    "collapsed": true
   },
   "outputs": [],
   "source": [
    "import numpy as np\n",
    "import pandas as pd\n",
    "import matplotlib.pyplot as plt\n",
    "import seaborn as sns\n",
    "from matplotlib import gridspec"
   ]
  },
  {
   "cell_type": "code",
   "execution_count": 5,
   "metadata": {
    "collapsed": true
   },
   "outputs": [],
   "source": [
    "# loading the dataset to a Pandas DataFrame\n",
    "data = pd.read_excel(\"credit1.xlsx\")"
   ]
  },
  {
   "cell_type": "code",
   "execution_count": 6,
   "metadata": {},
   "outputs": [
    {
     "name": "stdout",
     "output_type": "stream",
     "text": [
      "   Time        V1        V2        V3        V4        V5        V6        V7  \\\n",
      "0     0 -1.359807 -0.072781  2.536347  1.378155 -0.338321  0.462388  0.239599   \n",
      "1     0  1.191857  0.266151  0.166480  0.448154  0.060018 -0.082361 -0.078803   \n",
      "2     1 -1.358354 -1.340163  1.773209  0.379780 -0.503198  1.800499  0.791461   \n",
      "3     1 -0.966272 -0.185226  1.792993 -0.863291 -0.010309  1.247203  0.237609   \n",
      "4     2 -1.158233  0.877737  1.548718  0.403034 -0.407193  0.095921  0.592941   \n",
      "\n",
      "         V8        V9  ...         V21       V22       V23       V24  \\\n",
      "0  0.098698  0.363787  ...   -0.018307  0.277838 -0.110474  0.066928   \n",
      "1  0.085102 -0.255425  ...   -0.225775 -0.638672  0.101288 -0.339846   \n",
      "2  0.247676 -1.514654  ...    0.247998  0.771679  0.909412 -0.689281   \n",
      "3  0.377436 -1.387024  ...   -0.108300  0.005274 -0.190321 -1.175575   \n",
      "4 -0.270533  0.817739  ...   -0.009431  0.798278 -0.137458  0.141267   \n",
      "\n",
      "        V25       V26       V27       V28  Amount  Class  \n",
      "0  0.128539 -0.189115  0.133558 -0.021053  149.62      0  \n",
      "1  0.167170  0.125895 -0.008983  0.014724    2.69      0  \n",
      "2 -0.327642 -0.139097 -0.055353 -0.059752  378.66      0  \n",
      "3  0.647376 -0.221929  0.062723  0.061458  123.50      0  \n",
      "4 -0.206010  0.502292  0.219422  0.215153   69.99      0  \n",
      "\n",
      "[5 rows x 31 columns]\n"
     ]
    }
   ],
   "source": [
    "# first 5 rows of the dataset\n",
    "print(data.head())"
   ]
  },
  {
   "cell_type": "code",
   "execution_count": null,
   "metadata": {
    "collapsed": true
   },
   "outputs": [],
   "source": [
    "# Here Class is the target variable (0 for normal transactions, 1 for fraudulent transactions)."
   ]
  },
  {
   "cell_type": "code",
   "execution_count": 7,
   "metadata": {},
   "outputs": [
    {
     "name": "stdout",
     "output_type": "stream",
     "text": [
      "           count          mean           std         min           25%  \\\n",
      "Time    284807.0  9.481386e+04  47488.145955    0.000000  54201.500000   \n",
      "V1      284807.0  3.918649e-15      1.958696  -56.407510     -0.920373   \n",
      "V2      284807.0  5.682686e-16      1.651309  -72.715728     -0.598550   \n",
      "V3      284807.0 -8.761736e-15      1.516255  -48.325589     -0.890365   \n",
      "V4      284807.0  2.811118e-15      1.415869   -5.683171     -0.848640   \n",
      "V5      284807.0 -1.552103e-15      1.380247 -113.743307     -0.691597   \n",
      "V6      284807.0  2.040130e-15      1.332271  -26.160506     -0.768296   \n",
      "V7      284807.0 -1.698953e-15      1.237094  -43.557242     -0.554076   \n",
      "V8      284807.0 -1.958151e-16      1.194353  -73.216718     -0.208630   \n",
      "V9      284807.0 -3.147640e-15      1.098632  -13.434066     -0.643098   \n",
      "V10     284807.0  1.772925e-15      1.088850  -24.588262     -0.535426   \n",
      "V11     284807.0  9.289524e-16      1.020713   -4.797473     -0.762494   \n",
      "V12     284807.0 -1.803266e-15      0.999201  -18.683715     -0.405571   \n",
      "V13     284807.0  1.674888e-15      0.995274   -5.791881     -0.648539   \n",
      "V14     284807.0  1.475621e-15      0.958596  -19.214325     -0.425574   \n",
      "V15     284807.0  3.501098e-15      0.915316   -4.498945     -0.582884   \n",
      "V16     284807.0  1.392438e-15      0.876253  -14.129855     -0.468037   \n",
      "V17     284807.0 -7.466538e-16      0.849337  -25.162799     -0.483748   \n",
      "V18     284807.0  4.258738e-16      0.838176   -9.498746     -0.498850   \n",
      "V19     284807.0  9.020169e-16      0.814041   -7.213527     -0.456299   \n",
      "V20     284807.0  5.126845e-16      0.770925  -54.497720     -0.211721   \n",
      "V21     284807.0  1.471982e-16      0.734524  -34.830382     -0.228395   \n",
      "V22     284807.0  8.042109e-16      0.725702  -10.933144     -0.542350   \n",
      "V23     284807.0  5.282450e-16      0.624460  -44.807735     -0.161846   \n",
      "V24     284807.0  4.458267e-15      0.605647   -2.836627     -0.354586   \n",
      "V25     284807.0  1.426896e-15      0.521278  -10.295397     -0.317145   \n",
      "V26     284807.0  1.701640e-15      0.482227   -2.604551     -0.326984   \n",
      "V27     284807.0 -3.671606e-16      0.403632  -22.565679     -0.070840   \n",
      "V28     284807.0 -1.218152e-16      0.330083  -15.430084     -0.052960   \n",
      "Amount  284807.0  8.834962e+01    250.120109    0.000000      5.600000   \n",
      "Class   284807.0  1.727486e-03      0.041527    0.000000      0.000000   \n",
      "\n",
      "                 50%            75%            max  \n",
      "Time    84692.000000  139320.500000  172792.000000  \n",
      "V1          0.018109       1.315642       2.454930  \n",
      "V2          0.065486       0.803724      22.057729  \n",
      "V3          0.179846       1.027196       9.382558  \n",
      "V4         -0.019847       0.743341      16.875344  \n",
      "V5         -0.054336       0.611926      34.801666  \n",
      "V6         -0.274187       0.398565      73.301626  \n",
      "V7          0.040103       0.570436     120.589494  \n",
      "V8          0.022358       0.327346      20.007208  \n",
      "V9         -0.051429       0.597139      15.594995  \n",
      "V10        -0.092917       0.453923      23.745136  \n",
      "V11        -0.032757       0.739593      12.018913  \n",
      "V12         0.140033       0.618238       7.848392  \n",
      "V13        -0.013568       0.662505       7.126883  \n",
      "V14         0.050601       0.493150      10.526766  \n",
      "V15         0.048072       0.648821       8.877742  \n",
      "V16         0.066413       0.523296      17.315112  \n",
      "V17        -0.065676       0.399675       9.253526  \n",
      "V18        -0.003636       0.500807       5.041069  \n",
      "V19         0.003735       0.458949       5.591971  \n",
      "V20        -0.062481       0.133041      39.420904  \n",
      "V21        -0.029450       0.186377      27.202839  \n",
      "V22         0.006782       0.528554      10.503090  \n",
      "V23        -0.011193       0.147642      22.528412  \n",
      "V24         0.040976       0.439527       4.584549  \n",
      "V25         0.016594       0.350716       7.519589  \n",
      "V26        -0.052139       0.240952       3.517346  \n",
      "V27         0.001342       0.091045      31.612198  \n",
      "V28         0.011244       0.078280      33.847808  \n",
      "Amount     22.000000      77.165000   25691.160000  \n",
      "Class       0.000000       0.000000       1.000000  \n"
     ]
    }
   ],
   "source": [
    "#generate descriptive statistics and then transpose the result\n",
    "print(data.describe().transpose())"
   ]
  },
  {
   "cell_type": "code",
   "execution_count": 8,
   "metadata": {},
   "outputs": [
    {
     "name": "stdout",
     "output_type": "stream",
     "text": [
      "<class 'pandas.core.frame.DataFrame'>\n",
      "RangeIndex: 284807 entries, 0 to 284806\n",
      "Data columns (total 31 columns):\n",
      "Time      284807 non-null int64\n",
      "V1        284807 non-null float64\n",
      "V2        284807 non-null float64\n",
      "V3        284807 non-null float64\n",
      "V4        284807 non-null float64\n",
      "V5        284807 non-null float64\n",
      "V6        284807 non-null float64\n",
      "V7        284807 non-null float64\n",
      "V8        284807 non-null float64\n",
      "V9        284807 non-null float64\n",
      "V10       284807 non-null float64\n",
      "V11       284807 non-null float64\n",
      "V12       284807 non-null float64\n",
      "V13       284807 non-null float64\n",
      "V14       284807 non-null float64\n",
      "V15       284807 non-null float64\n",
      "V16       284807 non-null float64\n",
      "V17       284807 non-null float64\n",
      "V18       284807 non-null float64\n",
      "V19       284807 non-null float64\n",
      "V20       284807 non-null float64\n",
      "V21       284807 non-null float64\n",
      "V22       284807 non-null float64\n",
      "V23       284807 non-null float64\n",
      "V24       284807 non-null float64\n",
      "V25       284807 non-null float64\n",
      "V26       284807 non-null float64\n",
      "V27       284807 non-null float64\n",
      "V28       284807 non-null float64\n",
      "Amount    284807 non-null float64\n",
      "Class     284807 non-null int64\n",
      "dtypes: float64(29), int64(2)\n",
      "memory usage: 67.4 MB\n",
      "None\n"
     ]
    }
   ],
   "source": [
    "#view dataset information\n",
    "print(data.info())"
   ]
  },
  {
   "cell_type": "code",
   "execution_count": 10,
   "metadata": {},
   "outputs": [
    {
     "data": {
      "text/plain": [
       "Time      0\n",
       "V1        0\n",
       "V2        0\n",
       "V3        0\n",
       "V4        0\n",
       "V5        0\n",
       "V6        0\n",
       "V7        0\n",
       "V8        0\n",
       "V9        0\n",
       "V10       0\n",
       "V11       0\n",
       "V12       0\n",
       "V13       0\n",
       "V14       0\n",
       "V15       0\n",
       "V16       0\n",
       "V17       0\n",
       "V18       0\n",
       "V19       0\n",
       "V20       0\n",
       "V21       0\n",
       "V22       0\n",
       "V23       0\n",
       "V24       0\n",
       "V25       0\n",
       "V26       0\n",
       "V27       0\n",
       "V28       0\n",
       "Amount    0\n",
       "Class     0\n",
       "dtype: int64"
      ]
     },
     "execution_count": 10,
     "metadata": {},
     "output_type": "execute_result"
    }
   ],
   "source": [
    "# checking the number of missing values in each column\n",
    "data.isnull().sum()"
   ]
  },
  {
   "cell_type": "code",
   "execution_count": 11,
   "metadata": {},
   "outputs": [
    {
     "name": "stdout",
     "output_type": "stream",
     "text": [
      "0.0017304750013189597\n"
     ]
    }
   ],
   "source": [
    "#check the distribution of fraudulent vs. normal transactions.\n",
    "fraud = data[data['Class'] == 1]\n",
    "valid = data[data['Class'] == 0]\n",
    "outlierFraction = len(fraud)/float(len(valid))\n",
    "print(outlierFraction)"
   ]
  },
  {
   "cell_type": "code",
   "execution_count": 14,
   "metadata": {},
   "outputs": [
    {
     "name": "stdout",
     "output_type": "stream",
     "text": [
      "(284807, 30)\n",
      "(284807,)\n"
     ]
    }
   ],
   "source": [
    "#Prepare the data by separate the input features (X) and target variable (Y), Also standardize the variables\n",
    "from sklearn.preprocessing import StandardScaler\n",
    "scaler = StandardScaler()\n",
    "# dividing the X and the Y from the dataset\n",
    "X = data.drop(['Class'], axis = 1)\n",
    "Y = data[\"Class\"]\n",
    "X=scaler.fit_transform(X)\n",
    "print(X.shape)\n",
    "print(Y.shape)"
   ]
  },
  {
   "cell_type": "code",
   "execution_count": 15,
   "metadata": {
    "collapsed": true
   },
   "outputs": [],
   "source": [
    "#split the data into training and testing sets\n",
    "from sklearn.model_selection import train_test_split\n",
    "X_train, X_test, Y_train, Y_test = train_test_split(X,Y,test_size=0.25)"
   ]
  },
  {
   "cell_type": "code",
   "execution_count": 38,
   "metadata": {},
   "outputs": [
    {
     "data": {
      "text/plain": [
       "KNeighborsClassifier(algorithm='auto', leaf_size=30, metric='minkowski',\n",
       "           metric_params=None, n_jobs=1, n_neighbors=1, p=2,\n",
       "           weights='uniform')"
      ]
     },
     "execution_count": 38,
     "metadata": {},
     "output_type": "execute_result"
    }
   ],
   "source": [
    "#Build and Train the Model using KNN\n",
    "from sklearn.neighbors import KNeighborsClassifier\n",
    "model=KNeighborsClassifier(n_neighbors=1)\n",
    "model.fit(X_train,Y_train)"
   ]
  },
  {
   "cell_type": "code",
   "execution_count": null,
   "metadata": {
    "collapsed": true
   },
   "outputs": [],
   "source": [
    "#Use KNN to predict fraudulent transactions.\n",
    "yPred = model.predict(X_test)"
   ]
  },
  {
   "cell_type": "code",
   "execution_count": null,
   "metadata": {},
   "outputs": [],
   "source": [
    "#evaluate the models performance using various metrics, such as accuracy, precision\n",
    "from sklearn.metrics import classification_report,confusion_matrix,accuracy_score,precision_score"
   ]
  },
  {
   "cell_type": "code",
   "execution_count": null,
   "metadata": {},
   "outputs": [],
   "source": [
    "print(confusion_matrix(Y_test,yPred))"
   ]
  },
  {
   "cell_type": "code",
   "execution_count": 37,
   "metadata": {},
   "outputs": [
    {
     "data": {
      "text/plain": [
       "<matplotlib.figure.Figure at 0x95c3f50>"
      ]
     },
     "metadata": {},
     "output_type": "display_data"
    },
    {
     "data": {
      "image/png": "[encoded data removed]",
      "text/plain": [
       "<matplotlib.figure.Figure at 0xe6e9e70>"
      ]
     },
     "metadata": {},
     "output_type": "display_data"
    }
   ],
   "source": [
    "plt.figure(figsize=(8, 6))\n",
    "sns.heatmap(confusion_matrix(Y_test,yPred), annot=True, fmt=\"d\", cmap=\"Blues\",\n",
    "            xticklabels=['Normal', 'Fraud'], yticklabels=['Normal', 'Fraud'])\n",
    "plt.title(\"Confusion Matrix\")\n",
    "plt.xlabel(\"Predicted Class\")\n",
    "plt.ylabel(\"True Class\")\n",
    "plt.show()"
   ]
  },
  {
   "cell_type": "code",
   "execution_count": 27,
   "metadata": {},
   "outputs": [
    {
     "name": "stdout",
     "output_type": "stream",
     "text": [
      "             precision    recall  f1-score   support\n",
      "\n",
      "          0       1.00      1.00      1.00     71064\n",
      "          1       0.88      0.75      0.81       138\n",
      "\n",
      "avg / total       1.00      1.00      1.00     71202\n",
      "\n"
     ]
    }
   ],
   "source": [
    "print(classification_report(Y_test,yPred))"
   ]
  },
  {
   "cell_type": "code",
   "execution_count": 30,
   "metadata": {},
   "outputs": [
    {
     "name": "stdout",
     "output_type": "stream",
     "text": [
      "0.999311817084\n"
     ]
    }
   ],
   "source": [
    "accuracy = accuracy_score(Y_test,yPred)\n",
    "print(accuracy)"
   ]
  },
  {
   "cell_type": "code",
   "execution_count": 36,
   "metadata": {},
   "outputs": [
    {
     "name": "stdout",
     "output_type": "stream",
     "text": [
      "0.880341880342\n"
     ]
    }
   ],
   "source": [
    "precision = precision_score(Y_test,yPred)\n",
    "print(precision)"
   ]
  },
  {
   "cell_type": "code",
   "execution_count": null,
   "metadata": {
    "collapsed": true
   },
   "outputs": [],
   "source": []
  }
 ],
 "metadata": {
  "kernelspec": {
   "display_name": "Python 3",
   "language": "python",
   "name": "python3"
  },
  "language_info": {
   "codemirror_mode": {
    "name": "ipython",
    "version": 3
   },
   "file_extension": ".py",
   "mimetype": "text/x-python",
   "name": "python",
   "nbconvert_exporter": "python",
   "pygments_lexer": "ipython3",
   "version": "3.6.2"
  }
 },
 "nbformat": 4,
 "nbformat_minor": 2
}
